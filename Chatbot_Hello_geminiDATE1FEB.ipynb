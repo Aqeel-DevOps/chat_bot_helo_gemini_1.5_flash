{
  "nbformat": 4,
  "nbformat_minor": 0,
  "metadata": {
    "colab": {
      "provenance": [],
      "authorship_tag": "ABX9TyMuLX474bppm0iJaXS3+LsU",
      "include_colab_link": true
    },
    "kernelspec": {
      "name": "python3",
      "display_name": "Python 3"
    },
    "language_info": {
      "name": "python"
    }
  },
  "cells": [
    {
      "cell_type": "markdown",
      "metadata": {
        "id": "view-in-github",
        "colab_type": "text"
      },
      "source": [
        "<a href=\"https://colab.research.google.com/github/Aqeel-DevOps/chat_bot_helo_gemini_1.5_flash/blob/main/Chatbot_Hello_geminiDATE1FEB.ipynb\" target=\"_parent\"><img src=\"https://colab.research.google.com/assets/colab-badge.svg\" alt=\"Open In Colab\"/></a>"
      ]
    },
    {
      "cell_type": "code",
      "execution_count": 2,
      "metadata": {
        "id": "NkWjgsiGny0P"
      },
      "outputs": [],
      "source": [
        "from google.colab import userdata\n",
        "GOOGLE_API_KEY = userdata.get('GOOGLE_API_KEY')"
      ]
    },
    {
      "cell_type": "code",
      "source": [
        "!pip install google-generativeai -q"
      ],
      "metadata": {
        "id": "gJzAMMi9oOTb"
      },
      "execution_count": 4,
      "outputs": []
    },
    {
      "cell_type": "code",
      "source": [
        "import google.generativeai as genai"
      ],
      "metadata": {
        "id": "o1Kwdk5xonrK"
      },
      "execution_count": 5,
      "outputs": []
    },
    {
      "cell_type": "code",
      "source": [
        "genai.configure(api_key=GOOGLE_API_KEY)"
      ],
      "metadata": {
        "id": "ABhdVBnHoz7l"
      },
      "execution_count": 15,
      "outputs": []
    },
    {
      "cell_type": "code",
      "source": [
        "model=genai.GenerativeModel(\"gemini-1.5-flash\")"
      ],
      "metadata": {
        "id": "xNdvraCIpNde"
      },
      "execution_count": 16,
      "outputs": []
    },
    {
      "cell_type": "code",
      "source": [
        "response = model.generate_content(input(\"Type any thing:\"))\n",
        "print(response.text)"
      ],
      "metadata": {
        "colab": {
          "base_uri": "https://localhost:8080/",
          "height": 332
        },
        "id": "9AdaHdp0pjUG",
        "outputId": "6780856a-587a-438f-8f59-36c0919e4a7c"
      },
      "execution_count": 17,
      "outputs": [
        {
          "output_type": "stream",
          "name": "stdout",
          "text": [
            "Type any thing:WHAT IS PAKISTAN\n",
            "Pakistan is a country in South Asia.  Here are some key aspects:\n",
            "\n",
            "* **Geography:** It borders India to the east, Afghanistan to the west, Iran to the southwest, and China to the northeast.  It also has a coastline along the Arabian Sea.  The geography is diverse, ranging from mountains (the Himalayas and Karakoram) to plains (the Indus River plain) and deserts.\n",
            "\n",
            "* **Government:**  Pakistan is a federal parliamentary republic.  The head of state is the president, and the head of government is the prime minister.\n",
            "\n",
            "* **People:**  Pakistan has a large and diverse population, primarily composed of ethnic Punjabis, Pashtuns, Sindhis, and Muhajirs.  Islam is the dominant religion.\n",
            "\n",
            "* **Culture:**  Pakistan has a rich and varied culture, influenced by its history and geography.  This includes diverse languages, cuisines, music, art, and literature.\n",
            "\n",
            "* **Economy:**  Pakistan's economy is a mix of agriculture, industry, and services.  Major industries include textiles, agriculture (cotton, wheat, rice), and manufacturing.\n",
            "\n",
            "* **History:**  Pakistan was created in 1947 as a separate Muslim state following the partition of British India.  Its history has been marked by periods of both political stability and instability.\n",
            "\n",
            "In short, Pakistan is a large, populous, and geographically diverse country with a complex and significant history and culture.  It is a nation grappling with many challenges, but also possessing significant potential.\n",
            "\n"
          ]
        }
      ]
    },
    {
      "cell_type": "code",
      "source": [],
      "metadata": {
        "id": "1VGXR_oZqKka"
      },
      "execution_count": null,
      "outputs": []
    }
  ]
}